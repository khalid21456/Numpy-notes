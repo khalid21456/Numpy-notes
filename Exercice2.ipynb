{
 "cells": [
  {
   "cell_type": "markdown",
   "metadata": {},
   "source": [
    "**Ne pas oublier d'exécuter l'import de Numpy au début de votre notebook!**"
   ]
  },
  {
   "cell_type": "code",
   "execution_count": 1,
   "metadata": {},
   "outputs": [],
   "source": [
    "import numpy as np"
   ]
  },
  {
   "cell_type": "markdown",
   "metadata": {},
   "source": [
    "## Exercice 1"
   ]
  },
  {
   "cell_type": "markdown",
   "metadata": {},
   "source": [
    "Récupérer l'élément à **la troisième ligne** et à **la cinquième colonne** de la matrice ci-dessous."
   ]
  },
  {
   "cell_type": "markdown",
   "metadata": {},
   "source": [
    "Récupérer **le dernier élément** de **la dernière ligne**"
   ]
  },
  {
   "cell_type": "markdown",
   "metadata": {},
   "source": [
    "Récupérer **l'avant-dernier élément des lignes** et **le 6ème élément des colonnes**."
   ]
  },
  {
   "cell_type": "code",
   "execution_count": 6,
   "metadata": {},
   "outputs": [
    {
     "name": "stdout",
     "output_type": "stream",
     "text": [
      "25\n",
      "50\n",
      "36\n"
     ]
    }
   ],
   "source": [
    "matrice_exercice_1 = np.array([[1,2,3,4,5,6,7,8,9,10],\n",
    "                               [11,12,13,14,15,16,17,18,19,20],\n",
    "                               [21,22,23,24,25,26,27,28,29,30],\n",
    "                               [31,32,33,34,35,36,37,38,39,40],\n",
    "                               [41,42,43,44,45,46,47,48,49,50]])\n",
    "\n",
    "# Réponses :\n",
    "\n",
    "print(matrice_exercice_1[2,4])\n",
    "print(matrice_exercice_1[-1,-1])\n",
    "print(matrice_exercice_1[-2,5])"
   ]
  },
  {
   "cell_type": "markdown",
   "metadata": {},
   "source": [
    "## Exercice 2"
   ]
  },
  {
   "cell_type": "markdown",
   "metadata": {},
   "source": [
    "- Faire un **slicing** en récupérant tous les éléments de **la 3ème à l'avant-dernière ligne exclus**.\n",
    "\n",
    "- Faire un **slicing** en récupérant l'élément à **la 5ème colonne** de **la 5ème ligne** à **la 6ème ligne inclus**.\n",
    "\n",
    "- Faire un slicing de la deuxième ligne à la quatrième ligne, de la troisième colonne à la huitième colonne.\n",
    "\n",
    "- Faire un slicing : récupérer la ligne 3 de la 3ème à la 7ème colonne inclus"
   ]
  },
  {
   "cell_type": "code",
   "execution_count": 12,
   "metadata": {},
   "outputs": [
    {
     "name": "stdout",
     "output_type": "stream",
     "text": [
      "[41 42 43 44 45 46 47 48 49 50]\n",
      "\n",
      "45\n",
      "\n",
      "[[13 14 15 16 17 18 19]\n",
      " [23 24 25 26 27 28 29]\n",
      " [33 34 35 36 37 38 39]]\n",
      "\n",
      "[23 24 25 26 27 28]\n"
     ]
    }
   ],
   "source": [
    "matrice_exercice_2 = np.array([[1,2,3,4,5,6,7,8,9,10],\n",
    "                               [11,12,13,14,15,16,17,18,19,20],\n",
    "                               [21,22,23,24,25,26,27,28,29,30],\n",
    "                               [31,32,33,34,35,36,37,38,39,40],\n",
    "                               [41,42,43,44,45,46,47,48,49,50],\n",
    "                               [51,52,53,54,55,56,57,58,59,60],\n",
    "                               [61,62,63,64,65,66,67,68,69,70],\n",
    "                               [71,72,73,74,75,76,77,78,79,80]])\n",
    "\n",
    "# Réponses :\n",
    "\n",
    "print(matrice_exercice_2[-4])\n",
    "print()\n",
    "print(matrice_exercice_2[4,4])\n",
    "print()\n",
    "print(matrice_exercice_2[1:4,2:9])\n",
    "print()\n",
    "print(matrice_exercice_2[2,2:8])"
   ]
  },
  {
   "cell_type": "markdown",
   "metadata": {},
   "source": [
    "## Exercice 3"
   ]
  },
  {
   "cell_type": "markdown",
   "metadata": {},
   "source": [
    "- Récupérer tous les éléments aux indices pairs des lignes et des colonnes\n",
    "\n",
    "- Récupérer tous les éléments avec un pas de 5.\n",
    "\n",
    "- Faire un slicing de la 1ère à la 5ème ligne inclus et de la 6ème colonne à la dernière inclus. Récupérer les lignes avec un pas de 2 et les colonnes avec un pas de 1"
   ]
  },
  {
   "cell_type": "code",
   "execution_count": 16,
   "metadata": {},
   "outputs": [
    {
     "name": "stdout",
     "output_type": "stream",
     "text": [
      "[[ 1  3  5  7  9]\n",
      " [21 23 25 27 29]\n",
      " [41 43 45 47 49]\n",
      " [61 63 65 67 69]\n",
      " [81 83 85 87 89]]\n",
      "\n",
      "[[ 1  6]\n",
      " [51 56]]\n",
      "\n",
      "[[ 6  7  8  9 10]\n",
      " [26 27 28 29 30]\n",
      " [46 47 48 49 50]]\n"
     ]
    }
   ],
   "source": [
    "matrice_exercice_3 = np.array([[1,2,3,4,5,6,7,8,9,10],\n",
    "                               [11,12,13,14,15,16,17,18,19,20],\n",
    "                               [21,22,23,24,25,26,27,28,29,30],\n",
    "                               [31,32,33,34,35,36,37,38,39,40],\n",
    "                               [41,42,43,44,45,46,47,48,49,50],\n",
    "                               [51,52,53,54,55,56,57,58,59,60],\n",
    "                               [61,62,63,64,65,66,67,68,69,70],\n",
    "                               [71,72,73,74,75,76,77,78,79,80],\n",
    "                               [81,82,83,84,85,86,87,88,89,90],\n",
    "                               [91,92,93,94,95,96,97,98,99,100]])\n",
    "\n",
    "#Réponses : \n",
    "\n",
    "print(matrice_exercice_3[0::2,0::2])\n",
    "print()\n",
    "print(matrice_exercice_3[0::5,0::5])\n",
    "print()\n",
    "print(matrice_exercice_3[0:6:2,5:10])"
   ]
  },
  {
   "cell_type": "markdown",
   "metadata": {},
   "source": [
    "## Exercice 4"
   ]
  },
  {
   "cell_type": "markdown",
   "metadata": {},
   "source": [
    "- Assigner la valeur 5 à l'indice 3 du vecteur suivant.\n",
    "\n",
    "- Assigner la valeur 9 au dernier indice du vecteur suivant"
   ]
  },
  {
   "cell_type": "code",
   "execution_count": 18,
   "metadata": {},
   "outputs": [
    {
     "name": "stdout",
     "output_type": "stream",
     "text": [
      "[ 1  2  3  5  5  6  7  8  9 10 11 12  9]\n"
     ]
    }
   ],
   "source": [
    "vecteur_exercice_4 = np.array([1,2,3,4,5,6,7,8,9,10,11,12,13])\n",
    "\n",
    "#Réponses : \n",
    "\n",
    "vecteur_exercice_4[3] = 5\n",
    "vecteur_exercice_4[-1] = 9\n",
    "print(vecteur_exercice_4)"
   ]
  },
  {
   "cell_type": "markdown",
   "metadata": {},
   "source": [
    "## Exercice 5"
   ]
  },
  {
   "cell_type": "markdown",
   "metadata": {},
   "source": [
    "- Assigner la valeur 1 à toute la première ligne\n",
    "\n",
    "- Assigner à la dernière colonne des valeurs croissantes en commençant par la valeur 1.\n",
    "\n",
    "- Assigner la valeur 5 aux éléments à la dernière ligne et aux colonnes allant de l'indice 1 à l'indice 3 inclus."
   ]
  },
  {
   "cell_type": "code",
   "execution_count": 25,
   "metadata": {},
   "outputs": [
    {
     "name": "stdout",
     "output_type": "stream",
     "text": [
      "[[1 1 1 1 1]\n",
      " [2 2 2 2 2]\n",
      " [3 3 3 3 3]\n",
      " [4 4 4 4 4]\n",
      " [5 5 5 5 5]]\n"
     ]
    }
   ],
   "source": [
    "matrice_exercice_5 = np.array([[0,0,0,0,0], [2,2,2,2,-2], [3,3,3,3,-3], [4,4,4,4,-4], [5, 6, 6, 6, -5]])\n",
    "\n",
    "# Réponses : \n",
    "\n",
    "matrice_exercice_5[0] = 1\n",
    "matrice_exercice_5[:,-1] = [1,2,3,4,5]\n",
    "matrice_exercice_5[-1,1:4] = 5\n",
    "print(matrice_exercice_5)"
   ]
  }
 ],
 "metadata": {
  "kernelspec": {
   "display_name": "Python 3",
   "language": "python",
   "name": "python3"
  },
  "language_info": {
   "codemirror_mode": {
    "name": "ipython",
    "version": 3
   },
   "file_extension": ".py",
   "mimetype": "text/x-python",
   "name": "python",
   "nbconvert_exporter": "python",
   "pygments_lexer": "ipython3",
   "version": "3.12.0"
  }
 },
 "nbformat": 4,
 "nbformat_minor": 2
}
